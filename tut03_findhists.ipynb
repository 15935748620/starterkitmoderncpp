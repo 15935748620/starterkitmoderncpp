{
 "cells": [
  {
   "cell_type": "markdown",
   "metadata": {},
   "source": [
    "# Finding histograms in a list\n",
    "\n",
    "In a common case one defines histograms where the name incorporates settings i.e. a cut string and a tag. As histograms for cuts are typically in different lists the hisogram corresponding to a certain cut is unique. The goal is to write a method that returns the histogram with a certain tag in a general way. Assume the histograms are stored in a TObjArray, and there is only one TObjArray per file."
   ]
  },
  {
   "cell_type": "code",
   "execution_count": null,
   "metadata": {},
   "outputs": [],
   "source": [
    "TH1 *findHist(const char *filename, const char *histtag) {\n",
    "    TH1 *hist = nullptr;\n",
    "    std::unique_ptr<TFile> reader(TFile::Open(filename, \"READ\"));\n",
    "    if(!reader.get() || reader->IsZombie()){\n",
    "        std::cerr << \"Failed accessing file \" << filename << std::endl;\n",
    "        return nullptr;\n",
    "    }\n",
    "    reader->ls();\n",
    "    TObjArray *histlist = static_cast<TObjArray *>(static_cast<TKey *>(reader->GetListOfKeys()->At(0))->ReadObj());\n",
    "    // your code here ...\n",
    "    // end your code\n",
    "    if(hist) hist->SetDirectory(nullptr);    // Remove histogram from ROOT's file I/O\n",
    "    return hist;\n",
    "};"
   ]
  },
  {
   "cell_type": "markdown",
   "metadata": {},
   "source": [
    "Test the method with a test file finding the histogram hPt."
   ]
  },
  {
   "cell_type": "code",
   "execution_count": null,
   "metadata": {},
   "outputs": [],
   "source": [
    "auto hist = findHist(\"/eos/user/m/mfasel/SWAN_projects/Starterkit/data/10111000101_trackqa.root\", \"hPt\");\n",
    "if(hist) {\n",
    "    auto plot = new TCanvas(\"hPlot\", \"Plot\", 800, 600);\n",
    "    plot->cd();\n",
    "    hist->Draw();    \n",
    "} else {\n",
    "    std::cerr << \"Histogram not found\" << std::endl;\n",
    "}\n"
   ]
  },
  {
   "cell_type": "code",
   "execution_count": null,
   "metadata": {},
   "outputs": [],
   "source": []
  }
 ],
 "metadata": {
  "kernelspec": {
   "display_name": "ROOT C++",
   "language": "c++",
   "name": "root"
  },
  "language_info": {
   "codemirror_mode": "text/x-c++src",
   "file_extension": ".C",
   "mimetype": " text/x-c++src",
   "name": "c++"
  }
 },
 "nbformat": 4,
 "nbformat_minor": 2
}
