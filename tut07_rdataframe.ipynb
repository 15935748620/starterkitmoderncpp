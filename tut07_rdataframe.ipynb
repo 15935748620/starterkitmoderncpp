{
 "cells": [
  {
   "cell_type": "markdown",
   "metadata": {},
   "source": [
    "# Analysis of ROOT trees using RDataFrame\n",
    "\n",
    "RDataFrame is a modern way to analyze ROOT trees (and more!). The main principle is to express the analysis as a functional chain rather than in a procedural way. Cling compiles this functional chain into a binary expression which it can evaluate. This opens the room for optimizations. Multi-threading comes out-of-the-box."
   ]
  },
  {
   "cell_type": "code",
   "execution_count": null,
   "metadata": {},
   "outputs": [],
   "source": [
    "{\n",
    "    std::unique_ptr<TFile> branchreader(TFile::Open(\"/eos/user/m/mfasel/SWAN_projects/Starterkit/data/rdfexample.root\", \"READ\"));\n",
    "    auto testtree = static_cast<TTree *>(branchreader->Get(\"tracktree\"));\n",
    "    testtree->Print();\n",
    "}"
   ]
  },
  {
   "cell_type": "markdown",
   "metadata": {},
   "source": [
    "Creating a new data frame for the analysis of the track tree:"
   ]
  },
  {
   "cell_type": "code",
   "execution_count": null,
   "metadata": {},
   "outputs": [],
   "source": [
    "ROOT::RDataFrame trackframe(\"tracktree\", \"/eos/user/m/mfasel/SWAN_projects/Starterkit/data/rdfexample.root\");\n",
    "for(const auto &col : trackframe.GetColumnNames()) std::cout << \"Found column: \" << col << std::endl;"
   ]
  },
  {
   "cell_type": "markdown",
   "metadata": {},
   "source": [
    "Define branches for pt, eta and phi. Monitor pt."
   ]
  },
  {
   "cell_type": "code",
   "execution_count": null,
   "metadata": {},
   "outputs": [],
   "source": [
    "// your code here"
   ]
  },
  {
   "cell_type": "markdown",
   "metadata": {},
   "source": [
    "List Column names again after defining the new branches"
   ]
  },
  {
   "cell_type": "code",
   "execution_count": null,
   "metadata": {},
   "outputs": [],
   "source": [
    "// your code here"
   ]
  },
  {
   "cell_type": "markdown",
   "metadata": {},
   "source": [
    "Play a bit with the plotting. Monitor different columns. Try also 2D histograms."
   ]
  },
  {
   "cell_type": "code",
   "execution_count": null,
   "metadata": {},
   "outputs": [],
   "source": [
    "// your code here"
   ]
  },
  {
   "cell_type": "markdown",
   "metadata": {},
   "source": [
    "Select tracks with at least 120 TPC clusters and 4 ITS clusters. Draw pt, eta and phi."
   ]
  },
  {
   "cell_type": "code",
   "execution_count": null,
   "metadata": {},
   "outputs": [],
   "source": [
    "// your code here"
   ]
  },
  {
   "cell_type": "markdown",
   "metadata": {},
   "source": [
    "Get the mean value and the standard deviation for pt, number of TPC clusters and number of ITS clusters. Use directly the functionality of the RDataFrame, don't create histograms first."
   ]
  },
  {
   "cell_type": "code",
   "execution_count": null,
   "metadata": {},
   "outputs": [],
   "source": [
    "// your code here"
   ]
  },
  {
   "cell_type": "markdown",
   "metadata": {},
   "source": [
    "Create a new Tree including the new columns plus the number of ITS and TPC clusters, but without px, py and pz, and write it to your cernbox."
   ]
  },
  {
   "cell_type": "code",
   "execution_count": null,
   "metadata": {},
   "outputs": [],
   "source": [
    "// your code here"
   ]
  },
  {
   "cell_type": "code",
   "execution_count": null,
   "metadata": {},
   "outputs": [],
   "source": []
  }
 ],
 "metadata": {
  "kernelspec": {
   "display_name": "ROOT C++",
   "language": "c++",
   "name": "root"
  },
  "language_info": {
   "codemirror_mode": "text/x-c++src",
   "file_extension": ".C",
   "mimetype": " text/x-c++src",
   "name": "c++"
  }
 },
 "nbformat": 4,
 "nbformat_minor": 2
}
